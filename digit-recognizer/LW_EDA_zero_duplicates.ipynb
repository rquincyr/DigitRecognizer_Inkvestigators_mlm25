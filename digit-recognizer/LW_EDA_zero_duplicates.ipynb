{
 "cells": [
  {
   "cell_type": "code",
   "execution_count": 4,
   "id": "0ef212db-fd50-4c85-b652-88695063cccb",
   "metadata": {},
   "outputs": [],
   "source": [
    "# EDA_LW"
   ]
  },
  {
   "cell_type": "code",
   "execution_count": 7,
   "id": "ecc890e4-36a5-4a07-bd16-e07ba6dde0bb",
   "metadata": {},
   "outputs": [],
   "source": [
    "import pandas as pd\n",
    "import numpy as py\n",
    "import matplotlib.pyplot as plt"
   ]
  },
  {
   "cell_type": "code",
   "execution_count": 10,
   "id": "b9575565-203d-4ffd-a758-a6cf95aac608",
   "metadata": {},
   "outputs": [
    {
     "data": {
      "text/plain": [
       "'/Users/lilywenger/MLM25/GitProjects/DigitRecognizer_Inkvestigators_mlm25/digit-recognizer'"
      ]
     },
     "execution_count": 10,
     "metadata": {},
     "output_type": "execute_result"
    }
   ],
   "source": [
    "pwd"
   ]
  },
  {
   "cell_type": "code",
   "execution_count": 15,
   "id": "42ff1a4e-2448-44ab-8682-4e9789fcb368",
   "metadata": {},
   "outputs": [
    {
     "data": {
      "text/html": [
       "<div>\n",
       "<style scoped>\n",
       "    .dataframe tbody tr th:only-of-type {\n",
       "        vertical-align: middle;\n",
       "    }\n",
       "\n",
       "    .dataframe tbody tr th {\n",
       "        vertical-align: top;\n",
       "    }\n",
       "\n",
       "    .dataframe thead th {\n",
       "        text-align: right;\n",
       "    }\n",
       "</style>\n",
       "<table border=\"1\" class=\"dataframe\">\n",
       "  <thead>\n",
       "    <tr style=\"text-align: right;\">\n",
       "      <th></th>\n",
       "      <th>label</th>\n",
       "      <th>pixel0</th>\n",
       "      <th>pixel1</th>\n",
       "      <th>pixel2</th>\n",
       "      <th>pixel3</th>\n",
       "      <th>pixel4</th>\n",
       "      <th>pixel5</th>\n",
       "      <th>pixel6</th>\n",
       "      <th>pixel7</th>\n",
       "      <th>pixel8</th>\n",
       "      <th>...</th>\n",
       "      <th>pixel774</th>\n",
       "      <th>pixel775</th>\n",
       "      <th>pixel776</th>\n",
       "      <th>pixel777</th>\n",
       "      <th>pixel778</th>\n",
       "      <th>pixel779</th>\n",
       "      <th>pixel780</th>\n",
       "      <th>pixel781</th>\n",
       "      <th>pixel782</th>\n",
       "      <th>pixel783</th>\n",
       "    </tr>\n",
       "  </thead>\n",
       "  <tbody>\n",
       "    <tr>\n",
       "      <th>0</th>\n",
       "      <td>1</td>\n",
       "      <td>0</td>\n",
       "      <td>0</td>\n",
       "      <td>0</td>\n",
       "      <td>0</td>\n",
       "      <td>0</td>\n",
       "      <td>0</td>\n",
       "      <td>0</td>\n",
       "      <td>0</td>\n",
       "      <td>0</td>\n",
       "      <td>...</td>\n",
       "      <td>0</td>\n",
       "      <td>0</td>\n",
       "      <td>0</td>\n",
       "      <td>0</td>\n",
       "      <td>0</td>\n",
       "      <td>0</td>\n",
       "      <td>0</td>\n",
       "      <td>0</td>\n",
       "      <td>0</td>\n",
       "      <td>0</td>\n",
       "    </tr>\n",
       "    <tr>\n",
       "      <th>1</th>\n",
       "      <td>0</td>\n",
       "      <td>0</td>\n",
       "      <td>0</td>\n",
       "      <td>0</td>\n",
       "      <td>0</td>\n",
       "      <td>0</td>\n",
       "      <td>0</td>\n",
       "      <td>0</td>\n",
       "      <td>0</td>\n",
       "      <td>0</td>\n",
       "      <td>...</td>\n",
       "      <td>0</td>\n",
       "      <td>0</td>\n",
       "      <td>0</td>\n",
       "      <td>0</td>\n",
       "      <td>0</td>\n",
       "      <td>0</td>\n",
       "      <td>0</td>\n",
       "      <td>0</td>\n",
       "      <td>0</td>\n",
       "      <td>0</td>\n",
       "    </tr>\n",
       "    <tr>\n",
       "      <th>2</th>\n",
       "      <td>1</td>\n",
       "      <td>0</td>\n",
       "      <td>0</td>\n",
       "      <td>0</td>\n",
       "      <td>0</td>\n",
       "      <td>0</td>\n",
       "      <td>0</td>\n",
       "      <td>0</td>\n",
       "      <td>0</td>\n",
       "      <td>0</td>\n",
       "      <td>...</td>\n",
       "      <td>0</td>\n",
       "      <td>0</td>\n",
       "      <td>0</td>\n",
       "      <td>0</td>\n",
       "      <td>0</td>\n",
       "      <td>0</td>\n",
       "      <td>0</td>\n",
       "      <td>0</td>\n",
       "      <td>0</td>\n",
       "      <td>0</td>\n",
       "    </tr>\n",
       "    <tr>\n",
       "      <th>3</th>\n",
       "      <td>4</td>\n",
       "      <td>0</td>\n",
       "      <td>0</td>\n",
       "      <td>0</td>\n",
       "      <td>0</td>\n",
       "      <td>0</td>\n",
       "      <td>0</td>\n",
       "      <td>0</td>\n",
       "      <td>0</td>\n",
       "      <td>0</td>\n",
       "      <td>...</td>\n",
       "      <td>0</td>\n",
       "      <td>0</td>\n",
       "      <td>0</td>\n",
       "      <td>0</td>\n",
       "      <td>0</td>\n",
       "      <td>0</td>\n",
       "      <td>0</td>\n",
       "      <td>0</td>\n",
       "      <td>0</td>\n",
       "      <td>0</td>\n",
       "    </tr>\n",
       "    <tr>\n",
       "      <th>4</th>\n",
       "      <td>0</td>\n",
       "      <td>0</td>\n",
       "      <td>0</td>\n",
       "      <td>0</td>\n",
       "      <td>0</td>\n",
       "      <td>0</td>\n",
       "      <td>0</td>\n",
       "      <td>0</td>\n",
       "      <td>0</td>\n",
       "      <td>0</td>\n",
       "      <td>...</td>\n",
       "      <td>0</td>\n",
       "      <td>0</td>\n",
       "      <td>0</td>\n",
       "      <td>0</td>\n",
       "      <td>0</td>\n",
       "      <td>0</td>\n",
       "      <td>0</td>\n",
       "      <td>0</td>\n",
       "      <td>0</td>\n",
       "      <td>0</td>\n",
       "    </tr>\n",
       "  </tbody>\n",
       "</table>\n",
       "<p>5 rows × 785 columns</p>\n",
       "</div>"
      ],
      "text/plain": [
       "   label  pixel0  pixel1  pixel2  pixel3  pixel4  pixel5  pixel6  pixel7  \\\n",
       "0      1       0       0       0       0       0       0       0       0   \n",
       "1      0       0       0       0       0       0       0       0       0   \n",
       "2      1       0       0       0       0       0       0       0       0   \n",
       "3      4       0       0       0       0       0       0       0       0   \n",
       "4      0       0       0       0       0       0       0       0       0   \n",
       "\n",
       "   pixel8  ...  pixel774  pixel775  pixel776  pixel777  pixel778  pixel779  \\\n",
       "0       0  ...         0         0         0         0         0         0   \n",
       "1       0  ...         0         0         0         0         0         0   \n",
       "2       0  ...         0         0         0         0         0         0   \n",
       "3       0  ...         0         0         0         0         0         0   \n",
       "4       0  ...         0         0         0         0         0         0   \n",
       "\n",
       "   pixel780  pixel781  pixel782  pixel783  \n",
       "0         0         0         0         0  \n",
       "1         0         0         0         0  \n",
       "2         0         0         0         0  \n",
       "3         0         0         0         0  \n",
       "4         0         0         0         0  \n",
       "\n",
       "[5 rows x 785 columns]"
      ]
     },
     "execution_count": 15,
     "metadata": {},
     "output_type": "execute_result"
    }
   ],
   "source": [
    "# load training dataset\n",
    "df_train = pd.read_csv('./train.csv')\n",
    "df_train.head()"
   ]
  },
  {
   "cell_type": "code",
   "execution_count": 18,
   "id": "ad815313-5e35-4dc9-809e-85ae968fe002",
   "metadata": {},
   "outputs": [],
   "source": [
    "import math"
   ]
  },
  {
   "cell_type": "code",
   "execution_count": 21,
   "id": "8495a94e-4b12-48c8-aacc-909fbe922073",
   "metadata": {},
   "outputs": [
    {
     "name": "stdout",
     "output_type": "stream",
     "text": [
      "Missing values per column:\n",
      " label     0\n",
      "pixel0    0\n",
      "pixel1    0\n",
      "pixel2    0\n",
      "pixel3    0\n",
      "dtype: int64\n",
      "Total missing values: 0\n"
     ]
    }
   ],
   "source": [
    "# Count total missing values\n",
    "print(\"Missing values per column:\\n\", df_train.isna().sum().head())  \n",
    "print(\"Total missing values:\", df_train.isna().sum().sum())"
   ]
  },
  {
   "cell_type": "code",
   "execution_count": 23,
   "id": "8d89075c-1d6d-4b41-91f7-517726643708",
   "metadata": {},
   "outputs": [
    {
     "name": "stdout",
     "output_type": "stream",
     "text": [
      "Missing values per column:\n",
      " label     0\n",
      "pixel0    0\n",
      "pixel1    0\n",
      "pixel2    0\n",
      "pixel3    0\n",
      "dtype: int64\n"
     ]
    }
   ],
   "source": [
    "print(\"Missing values per column:\\n\", df_train.isna().sum().head())"
   ]
  },
  {
   "cell_type": "code",
   "execution_count": 25,
   "id": "08320461-740c-4712-b1e0-4adc6726e230",
   "metadata": {},
   "outputs": [
    {
     "name": "stdout",
     "output_type": "stream",
     "text": [
      "Total missing values: 0\n"
     ]
    }
   ],
   "source": [
    "print(\"Total missing values:\", df_train.isna().sum().sum())"
   ]
  },
  {
   "cell_type": "code",
   "execution_count": 27,
   "id": "14b4df8e-20df-4fb7-89c3-ac1d0da357a9",
   "metadata": {},
   "outputs": [
    {
     "name": "stdout",
     "output_type": "stream",
     "text": [
      "Missing values per column:\n",
      " label       0\n",
      "pixel0      0\n",
      "pixel1      0\n",
      "pixel2      0\n",
      "pixel3      0\n",
      "           ..\n",
      "pixel779    0\n",
      "pixel780    0\n",
      "pixel781    0\n",
      "pixel782    0\n",
      "pixel783    0\n",
      "Length: 785, dtype: int64\n"
     ]
    }
   ],
   "source": [
    "print(\"Missing values per column:\\n\", df_train.isna().sum())"
   ]
  },
  {
   "cell_type": "code",
   "execution_count": 29,
   "id": "6a1299b1-67fd-4069-bd93-ad3c47ef3498",
   "metadata": {},
   "outputs": [
    {
     "name": "stdout",
     "output_type": "stream",
     "text": [
      "Total duplicate rows (including labels): 0\n"
     ]
    }
   ],
   "source": [
    "# Duplicates across the entire row (label + pixels)\n",
    "dup_all = df_train[df_train.duplicated(keep=False)]\n",
    "print(\"Total duplicate rows (including labels):\", dup_all.shape[0])"
   ]
  },
  {
   "cell_type": "code",
   "execution_count": 31,
   "id": "b98e2022-8fe0-4933-a65b-6eba50742685",
   "metadata": {},
   "outputs": [
    {
     "name": "stdout",
     "output_type": "stream",
     "text": [
      "Total duplicate rows (ignoring labels): 0\n"
     ]
    }
   ],
   "source": [
    "# Duplicates in just the pixels (ignoring label)\n",
    "dup_pixels = df_train[df_train.drop(\"label\", axis=1).duplicated(keep=False)]\n",
    "print(\"Total duplicate rows (ignoring labels):\", dup_pixels.shape[0])"
   ]
  },
  {
   "cell_type": "code",
   "execution_count": 33,
   "id": "1a0761ca-82e9-4242-8016-7d745d3cc39e",
   "metadata": {},
   "outputs": [
    {
     "name": "stdout",
     "output_type": "stream",
     "text": [
      "Nearly blank images: 0\n"
     ]
    }
   ],
   "source": [
    "pixels = df_train.drop(\"label\", axis=1)\n",
    "\n",
    "# Sum of pixel values per image\n",
    "pixel_sums = pixels.sum(axis=1)\n",
    "\n",
    "# Pick a threshold (adjust as needed)\n",
    "threshold = 127  \n",
    "blank_like = df_train[pixel_sums < threshold]\n",
    "\n",
    "print(\"Nearly blank images:\", blank_like.shape[0])"
   ]
  },
  {
   "cell_type": "code",
   "execution_count": 35,
   "id": "2be8db05-4b1d-426d-b3ac-be8009a49a67",
   "metadata": {},
   "outputs": [
    {
     "name": "stdout",
     "output_type": "stream",
     "text": [
      "Rows with all pixels < 127: 0\n"
     ]
    }
   ],
   "source": [
    "# Drop labels, keep just pixels\n",
    "pixels = df_train.drop(\"label\", axis=1)\n",
    "\n",
    "# Boolean mask: True if all pixel values in the row < 127\n",
    "low_intensity_mask = (pixels < 127).all(axis=1)\n",
    "\n",
    "# Get those rows\n",
    "low_intensity_rows = df_train[low_intensity_mask]\n",
    "\n",
    "print(\"Rows with all pixels < 127:\", low_intensity_rows.shape[0])"
   ]
  },
  {
   "cell_type": "code",
   "execution_count": 37,
   "id": "d714777d-c8dc-4120-a7c9-9e9cbe155c4b",
   "metadata": {},
   "outputs": [
    {
     "name": "stdout",
     "output_type": "stream",
     "text": [
      "Rows with ≥90% of pixels < 127: 10310\n"
     ]
    }
   ],
   "source": [
    "import numpy as np\n",
    "\n",
    "# Drop labels, keep just pixels\n",
    "pixels = df_train.drop(\"label\", axis=1)\n",
    "\n",
    "# Boolean mask per pixel: True if pixel < 127\n",
    "below_threshold = (pixels < 127)\n",
    "\n",
    "# Fraction of pixels below threshold for each row\n",
    "fraction_below = below_threshold.mean(axis=1)\n",
    "\n",
    "# Mask: rows where ≥90% of pixels are below 127\n",
    "low_intensity_90 = fraction_below >= 0.9\n",
    "\n",
    "# Get those rows\n",
    "low_intensity_rows_90 = df_train[low_intensity_90]\n",
    "\n",
    "print(\"Rows with ≥90% of pixels < 127:\", low_intensity_rows_90.shape[0])"
   ]
  },
  {
   "cell_type": "code",
   "execution_count": 39,
   "id": "f400568b-3adb-4492-a5e6-3ac244579ff7",
   "metadata": {},
   "outputs": [],
   "source": [
    "# visualize a few of these"
   ]
  },
  {
   "cell_type": "code",
   "execution_count": 41,
   "id": "788b4817-cad7-45f8-a6e2-80237fdf805f",
   "metadata": {},
   "outputs": [
    {
     "name": "stdout",
     "output_type": "stream",
     "text": [
      "Label: 1\n"
     ]
    },
    {
     "data": {
      "image/png": "[encoded data removed]",
      "text/plain": [
       "<Figure size 640x480 with 1 Axes>"
      ]
     },
     "metadata": {},
     "output_type": "display_data"
    },
    {
     "name": "stdout",
     "output_type": "stream",
     "text": [
      "Label: 1\n"
     ]
    },
    {
     "data": {
      "image/png": "[encoded data removed]",
      "text/plain": [
       "<Figure size 640x480 with 1 Axes>"
      ]
     },
     "metadata": {},
     "output_type": "display_data"
    },
    {
     "name": "stdout",
     "output_type": "stream",
     "text": [
      "Label: 4\n"
     ]
    },
    {
     "data": {
      "image/png": "[encoded data removed]",
      "text/plain": [
       "<Figure size 640x480 with 1 Axes>"
      ]
     },
     "metadata": {},
     "output_type": "display_data"
    }
   ],
   "source": [
    "def show_image(row):\n",
    "    img = row.values.reshape(28,28)\n",
    "    plt.imshow(img, cmap=\"gray\")\n",
    "    plt.axis(\"off\")\n",
    "    plt.show()\n",
    "\n",
    "if not low_intensity_rows_90.empty:\n",
    "    for i in range(3):  # show first 3 examples\n",
    "        print(\"Label:\", low_intensity_rows_90.iloc[i,0])\n",
    "        show_image(low_intensity_rows_90.drop(\"label\", axis=1).iloc[i])"
   ]
  },
  {
   "cell_type": "code",
   "execution_count": 43,
   "id": "b4c74ac0-11b8-49eb-a5a9-3394343ac154",
   "metadata": {},
   "outputs": [
    {
     "name": "stdout",
     "output_type": "stream",
     "text": [
      "Label distribution of dim images (≥90% pixels <127):\n",
      "label\n",
      "0     118\n",
      "1    4039\n",
      "2     368\n",
      "3     545\n",
      "4    1091\n",
      "5     852\n",
      "6     580\n",
      "7    1466\n",
      "8     287\n",
      "9     964\n",
      "Name: count, dtype: int64\n"
     ]
    }
   ],
   "source": [
    "# Count how many \"dim\" rows per label\n",
    "label_counts_dim = low_intensity_rows_90['label'].value_counts().sort_index()\n",
    "\n",
    "print(\"Label distribution of dim images (≥90% pixels <127):\")\n",
    "print(label_counts_dim)"
   ]
  },
  {
   "cell_type": "code",
   "execution_count": 45,
   "id": "6f485d1e-9d51-4189-885b-ec9c5fc8be18",
   "metadata": {},
   "outputs": [
    {
     "name": "stdout",
     "output_type": "stream",
     "text": [
      "Rows with ≥95% of pixels < 127: 510\n"
     ]
    }
   ],
   "source": [
    "# Drop labels, keep just pixels\n",
    "pixels = df_train.drop(\"label\", axis=1)\n",
    "\n",
    "# Boolean mask per pixel: True if pixel < 127\n",
    "below_threshold = (pixels < 127)\n",
    "\n",
    "# Fraction of pixels below threshold for each row\n",
    "fraction_below = below_threshold.mean(axis=1)\n",
    "\n",
    "# Mask: rows where ≥90% of pixels are below 127\n",
    "low_intensity_95 = fraction_below >= 0.95\n",
    "\n",
    "# Get those rows\n",
    "low_intensity_rows_95 = df_train[low_intensity_95]\n",
    "\n",
    "print(\"Rows with ≥95% of pixels < 127:\", low_intensity_rows_95.shape[0])"
   ]
  },
  {
   "cell_type": "code",
   "execution_count": 48,
   "id": "f7c49ac8-d0d9-42a6-bd3f-0f87a3497769",
   "metadata": {},
   "outputs": [
    {
     "name": "stdout",
     "output_type": "stream",
     "text": [
      "Label distribution of dim images (≥95% pixels <127):\n",
      "label\n",
      "1    464\n",
      "2      3\n",
      "3      7\n",
      "4      5\n",
      "5     14\n",
      "6      3\n",
      "7      8\n",
      "8      1\n",
      "9      5\n",
      "Name: count, dtype: int64\n"
     ]
    }
   ],
   "source": [
    "# Count how many \"dim\" rows per label\n",
    "label_counts_dim = low_intensity_rows_95['label'].value_counts().sort_index()\n",
    "\n",
    "print(\"Label distribution of dim images (≥95% pixels <127):\")\n",
    "print(label_counts_dim)"
   ]
  },
  {
   "cell_type": "code",
   "execution_count": 50,
   "id": "3772f86d-cf2a-4164-98fc-eeedc5bb7b2f",
   "metadata": {},
   "outputs": [
    {
     "ename": "ValueError",
     "evalue": "Could not interpret value `mean_intensity` for `y`. An entry with this name does not appear in `data`.",
     "output_type": "error",
     "traceback": [
      "\u001b[0;31m---------------------------------------------------------------------------\u001b[0m",
      "\u001b[0;31mValueError\u001b[0m                                Traceback (most recent call last)",
      "Cell \u001b[0;32mIn[50], line 5\u001b[0m\n\u001b[1;32m      2\u001b[0m \u001b[38;5;28;01mimport\u001b[39;00m \u001b[38;5;21;01mmatplotlib\u001b[39;00m\u001b[38;5;21;01m.\u001b[39;00m\u001b[38;5;21;01mpyplot\u001b[39;00m \u001b[38;5;28;01mas\u001b[39;00m \u001b[38;5;21;01mplt\u001b[39;00m\n\u001b[1;32m      4\u001b[0m plt\u001b[38;5;241m.\u001b[39mfigure(figsize\u001b[38;5;241m=\u001b[39m(\u001b[38;5;241m10\u001b[39m,\u001b[38;5;241m6\u001b[39m))\n\u001b[0;32m----> 5\u001b[0m sns\u001b[38;5;241m.\u001b[39mboxplot(x\u001b[38;5;241m=\u001b[39m\u001b[38;5;124m'\u001b[39m\u001b[38;5;124mlabel\u001b[39m\u001b[38;5;124m'\u001b[39m, y\u001b[38;5;241m=\u001b[39m\u001b[38;5;124m'\u001b[39m\u001b[38;5;124mmean_intensity\u001b[39m\u001b[38;5;124m'\u001b[39m, data\u001b[38;5;241m=\u001b[39mdf_train)\n\u001b[1;32m      6\u001b[0m plt\u001b[38;5;241m.\u001b[39mtitle(\u001b[38;5;124m\"\u001b[39m\u001b[38;5;124mDistribution of Mean Pixel Intensity per Digit\u001b[39m\u001b[38;5;124m\"\u001b[39m)\n\u001b[1;32m      7\u001b[0m plt\u001b[38;5;241m.\u001b[39mshow()\n",
      "File \u001b[0;32m/opt/anaconda3/lib/python3.12/site-packages/seaborn/categorical.py:1597\u001b[0m, in \u001b[0;36mboxplot\u001b[0;34m(data, x, y, hue, order, hue_order, orient, color, palette, saturation, fill, dodge, width, gap, whis, linecolor, linewidth, fliersize, hue_norm, native_scale, log_scale, formatter, legend, ax, **kwargs)\u001b[0m\n\u001b[1;32m   1589\u001b[0m \u001b[38;5;28;01mdef\u001b[39;00m \u001b[38;5;21mboxplot\u001b[39m(\n\u001b[1;32m   1590\u001b[0m     data\u001b[38;5;241m=\u001b[39m\u001b[38;5;28;01mNone\u001b[39;00m, \u001b[38;5;241m*\u001b[39m, x\u001b[38;5;241m=\u001b[39m\u001b[38;5;28;01mNone\u001b[39;00m, y\u001b[38;5;241m=\u001b[39m\u001b[38;5;28;01mNone\u001b[39;00m, hue\u001b[38;5;241m=\u001b[39m\u001b[38;5;28;01mNone\u001b[39;00m, order\u001b[38;5;241m=\u001b[39m\u001b[38;5;28;01mNone\u001b[39;00m, hue_order\u001b[38;5;241m=\u001b[39m\u001b[38;5;28;01mNone\u001b[39;00m,\n\u001b[1;32m   1591\u001b[0m     orient\u001b[38;5;241m=\u001b[39m\u001b[38;5;28;01mNone\u001b[39;00m, color\u001b[38;5;241m=\u001b[39m\u001b[38;5;28;01mNone\u001b[39;00m, palette\u001b[38;5;241m=\u001b[39m\u001b[38;5;28;01mNone\u001b[39;00m, saturation\u001b[38;5;241m=\u001b[39m\u001b[38;5;241m.75\u001b[39m, fill\u001b[38;5;241m=\u001b[39m\u001b[38;5;28;01mTrue\u001b[39;00m,\n\u001b[0;32m   (...)\u001b[0m\n\u001b[1;32m   1594\u001b[0m     legend\u001b[38;5;241m=\u001b[39m\u001b[38;5;124m\"\u001b[39m\u001b[38;5;124mauto\u001b[39m\u001b[38;5;124m\"\u001b[39m, ax\u001b[38;5;241m=\u001b[39m\u001b[38;5;28;01mNone\u001b[39;00m, \u001b[38;5;241m*\u001b[39m\u001b[38;5;241m*\u001b[39mkwargs\n\u001b[1;32m   1595\u001b[0m ):\n\u001b[0;32m-> 1597\u001b[0m     p \u001b[38;5;241m=\u001b[39m _CategoricalPlotter(\n\u001b[1;32m   1598\u001b[0m         data\u001b[38;5;241m=\u001b[39mdata,\n\u001b[1;32m   1599\u001b[0m         variables\u001b[38;5;241m=\u001b[39m\u001b[38;5;28mdict\u001b[39m(x\u001b[38;5;241m=\u001b[39mx, y\u001b[38;5;241m=\u001b[39my, hue\u001b[38;5;241m=\u001b[39mhue),\n\u001b[1;32m   1600\u001b[0m         order\u001b[38;5;241m=\u001b[39morder,\n\u001b[1;32m   1601\u001b[0m         orient\u001b[38;5;241m=\u001b[39morient,\n\u001b[1;32m   1602\u001b[0m         color\u001b[38;5;241m=\u001b[39mcolor,\n\u001b[1;32m   1603\u001b[0m         legend\u001b[38;5;241m=\u001b[39mlegend,\n\u001b[1;32m   1604\u001b[0m     )\n\u001b[1;32m   1606\u001b[0m     \u001b[38;5;28;01mif\u001b[39;00m ax \u001b[38;5;129;01mis\u001b[39;00m \u001b[38;5;28;01mNone\u001b[39;00m:\n\u001b[1;32m   1607\u001b[0m         ax \u001b[38;5;241m=\u001b[39m plt\u001b[38;5;241m.\u001b[39mgca()\n",
      "File \u001b[0;32m/opt/anaconda3/lib/python3.12/site-packages/seaborn/categorical.py:67\u001b[0m, in \u001b[0;36m_CategoricalPlotter.__init__\u001b[0;34m(self, data, variables, order, orient, require_numeric, color, legend)\u001b[0m\n\u001b[1;32m     56\u001b[0m \u001b[38;5;28;01mdef\u001b[39;00m \u001b[38;5;21m__init__\u001b[39m(\n\u001b[1;32m     57\u001b[0m     \u001b[38;5;28mself\u001b[39m,\n\u001b[1;32m     58\u001b[0m     data\u001b[38;5;241m=\u001b[39m\u001b[38;5;28;01mNone\u001b[39;00m,\n\u001b[0;32m   (...)\u001b[0m\n\u001b[1;32m     64\u001b[0m     legend\u001b[38;5;241m=\u001b[39m\u001b[38;5;124m\"\u001b[39m\u001b[38;5;124mauto\u001b[39m\u001b[38;5;124m\"\u001b[39m,\n\u001b[1;32m     65\u001b[0m ):\n\u001b[0;32m---> 67\u001b[0m     \u001b[38;5;28msuper\u001b[39m()\u001b[38;5;241m.\u001b[39m\u001b[38;5;21m__init__\u001b[39m(data\u001b[38;5;241m=\u001b[39mdata, variables\u001b[38;5;241m=\u001b[39mvariables)\n\u001b[1;32m     69\u001b[0m     \u001b[38;5;66;03m# This method takes care of some bookkeeping that is necessary because the\u001b[39;00m\n\u001b[1;32m     70\u001b[0m     \u001b[38;5;66;03m# original categorical plots (prior to the 2021 refactor) had some rules that\u001b[39;00m\n\u001b[1;32m     71\u001b[0m     \u001b[38;5;66;03m# don't fit exactly into VectorPlotter logic. It may be wise to have a second\u001b[39;00m\n\u001b[0;32m   (...)\u001b[0m\n\u001b[1;32m     76\u001b[0m     \u001b[38;5;66;03m# default VectorPlotter rules. If we do decide to make orient part of the\u001b[39;00m\n\u001b[1;32m     77\u001b[0m     \u001b[38;5;66;03m# _base variable assignment, we'll want to figure out how to express that.\u001b[39;00m\n\u001b[1;32m     78\u001b[0m     \u001b[38;5;28;01mif\u001b[39;00m \u001b[38;5;28mself\u001b[39m\u001b[38;5;241m.\u001b[39minput_format \u001b[38;5;241m==\u001b[39m \u001b[38;5;124m\"\u001b[39m\u001b[38;5;124mwide\u001b[39m\u001b[38;5;124m\"\u001b[39m \u001b[38;5;129;01mand\u001b[39;00m orient \u001b[38;5;129;01min\u001b[39;00m [\u001b[38;5;124m\"\u001b[39m\u001b[38;5;124mh\u001b[39m\u001b[38;5;124m\"\u001b[39m, \u001b[38;5;124m\"\u001b[39m\u001b[38;5;124my\u001b[39m\u001b[38;5;124m\"\u001b[39m]:\n",
      "File \u001b[0;32m/opt/anaconda3/lib/python3.12/site-packages/seaborn/_base.py:634\u001b[0m, in \u001b[0;36mVectorPlotter.__init__\u001b[0;34m(self, data, variables)\u001b[0m\n\u001b[1;32m    629\u001b[0m \u001b[38;5;66;03m# var_ordered is relevant only for categorical axis variables, and may\u001b[39;00m\n\u001b[1;32m    630\u001b[0m \u001b[38;5;66;03m# be better handled by an internal axis information object that tracks\u001b[39;00m\n\u001b[1;32m    631\u001b[0m \u001b[38;5;66;03m# such information and is set up by the scale_* methods. The analogous\u001b[39;00m\n\u001b[1;32m    632\u001b[0m \u001b[38;5;66;03m# information for numeric axes would be information about log scales.\u001b[39;00m\n\u001b[1;32m    633\u001b[0m \u001b[38;5;28mself\u001b[39m\u001b[38;5;241m.\u001b[39m_var_ordered \u001b[38;5;241m=\u001b[39m {\u001b[38;5;124m\"\u001b[39m\u001b[38;5;124mx\u001b[39m\u001b[38;5;124m\"\u001b[39m: \u001b[38;5;28;01mFalse\u001b[39;00m, \u001b[38;5;124m\"\u001b[39m\u001b[38;5;124my\u001b[39m\u001b[38;5;124m\"\u001b[39m: \u001b[38;5;28;01mFalse\u001b[39;00m}  \u001b[38;5;66;03m# alt., used DefaultDict\u001b[39;00m\n\u001b[0;32m--> 634\u001b[0m \u001b[38;5;28mself\u001b[39m\u001b[38;5;241m.\u001b[39massign_variables(data, variables)\n\u001b[1;32m    636\u001b[0m \u001b[38;5;66;03m# TODO Lots of tests assume that these are called to initialize the\u001b[39;00m\n\u001b[1;32m    637\u001b[0m \u001b[38;5;66;03m# mappings to default values on class initialization. I'd prefer to\u001b[39;00m\n\u001b[1;32m    638\u001b[0m \u001b[38;5;66;03m# move away from that and only have a mapping when explicitly called.\u001b[39;00m\n\u001b[1;32m    639\u001b[0m \u001b[38;5;28;01mfor\u001b[39;00m var \u001b[38;5;129;01min\u001b[39;00m [\u001b[38;5;124m\"\u001b[39m\u001b[38;5;124mhue\u001b[39m\u001b[38;5;124m\"\u001b[39m, \u001b[38;5;124m\"\u001b[39m\u001b[38;5;124msize\u001b[39m\u001b[38;5;124m\"\u001b[39m, \u001b[38;5;124m\"\u001b[39m\u001b[38;5;124mstyle\u001b[39m\u001b[38;5;124m\"\u001b[39m]:\n",
      "File \u001b[0;32m/opt/anaconda3/lib/python3.12/site-packages/seaborn/_base.py:679\u001b[0m, in \u001b[0;36mVectorPlotter.assign_variables\u001b[0;34m(self, data, variables)\u001b[0m\n\u001b[1;32m    674\u001b[0m \u001b[38;5;28;01melse\u001b[39;00m:\n\u001b[1;32m    675\u001b[0m     \u001b[38;5;66;03m# When dealing with long-form input, use the newer PlotData\u001b[39;00m\n\u001b[1;32m    676\u001b[0m     \u001b[38;5;66;03m# object (internal but introduced for the objects interface)\u001b[39;00m\n\u001b[1;32m    677\u001b[0m     \u001b[38;5;66;03m# to centralize / standardize data consumption logic.\u001b[39;00m\n\u001b[1;32m    678\u001b[0m     \u001b[38;5;28mself\u001b[39m\u001b[38;5;241m.\u001b[39minput_format \u001b[38;5;241m=\u001b[39m \u001b[38;5;124m\"\u001b[39m\u001b[38;5;124mlong\u001b[39m\u001b[38;5;124m\"\u001b[39m\n\u001b[0;32m--> 679\u001b[0m     plot_data \u001b[38;5;241m=\u001b[39m PlotData(data, variables)\n\u001b[1;32m    680\u001b[0m     frame \u001b[38;5;241m=\u001b[39m plot_data\u001b[38;5;241m.\u001b[39mframe\n\u001b[1;32m    681\u001b[0m     names \u001b[38;5;241m=\u001b[39m plot_data\u001b[38;5;241m.\u001b[39mnames\n",
      "File \u001b[0;32m/opt/anaconda3/lib/python3.12/site-packages/seaborn/_core/data.py:58\u001b[0m, in \u001b[0;36mPlotData.__init__\u001b[0;34m(self, data, variables)\u001b[0m\n\u001b[1;32m     51\u001b[0m \u001b[38;5;28;01mdef\u001b[39;00m \u001b[38;5;21m__init__\u001b[39m(\n\u001b[1;32m     52\u001b[0m     \u001b[38;5;28mself\u001b[39m,\n\u001b[1;32m     53\u001b[0m     data: DataSource,\n\u001b[1;32m     54\u001b[0m     variables: \u001b[38;5;28mdict\u001b[39m[\u001b[38;5;28mstr\u001b[39m, VariableSpec],\n\u001b[1;32m     55\u001b[0m ):\n\u001b[1;32m     57\u001b[0m     data \u001b[38;5;241m=\u001b[39m handle_data_source(data)\n\u001b[0;32m---> 58\u001b[0m     frame, names, ids \u001b[38;5;241m=\u001b[39m \u001b[38;5;28mself\u001b[39m\u001b[38;5;241m.\u001b[39m_assign_variables(data, variables)\n\u001b[1;32m     60\u001b[0m     \u001b[38;5;28mself\u001b[39m\u001b[38;5;241m.\u001b[39mframe \u001b[38;5;241m=\u001b[39m frame\n\u001b[1;32m     61\u001b[0m     \u001b[38;5;28mself\u001b[39m\u001b[38;5;241m.\u001b[39mnames \u001b[38;5;241m=\u001b[39m names\n",
      "File \u001b[0;32m/opt/anaconda3/lib/python3.12/site-packages/seaborn/_core/data.py:232\u001b[0m, in \u001b[0;36mPlotData._assign_variables\u001b[0;34m(self, data, variables)\u001b[0m\n\u001b[1;32m    230\u001b[0m     \u001b[38;5;28;01melse\u001b[39;00m:\n\u001b[1;32m    231\u001b[0m         err \u001b[38;5;241m+\u001b[39m\u001b[38;5;241m=\u001b[39m \u001b[38;5;124m\"\u001b[39m\u001b[38;5;124mAn entry with this name does not appear in `data`.\u001b[39m\u001b[38;5;124m\"\u001b[39m\n\u001b[0;32m--> 232\u001b[0m     \u001b[38;5;28;01mraise\u001b[39;00m \u001b[38;5;167;01mValueError\u001b[39;00m(err)\n\u001b[1;32m    234\u001b[0m \u001b[38;5;28;01melse\u001b[39;00m:\n\u001b[1;32m    235\u001b[0m \n\u001b[1;32m    236\u001b[0m     \u001b[38;5;66;03m# Otherwise, assume the value somehow represents data\u001b[39;00m\n\u001b[1;32m    237\u001b[0m \n\u001b[1;32m    238\u001b[0m     \u001b[38;5;66;03m# Ignore empty data structures\u001b[39;00m\n\u001b[1;32m    239\u001b[0m     \u001b[38;5;28;01mif\u001b[39;00m \u001b[38;5;28misinstance\u001b[39m(val, Sized) \u001b[38;5;129;01mand\u001b[39;00m \u001b[38;5;28mlen\u001b[39m(val) \u001b[38;5;241m==\u001b[39m \u001b[38;5;241m0\u001b[39m:\n",
      "\u001b[0;31mValueError\u001b[0m: Could not interpret value `mean_intensity` for `y`. An entry with this name does not appear in `data`."
     ]
    },
    {
     "data": {
      "text/plain": [
       "<Figure size 1000x600 with 0 Axes>"
      ]
     },
     "metadata": {},
     "output_type": "display_data"
    }
   ],
   "source": [
    "import seaborn as sns\n",
    "import matplotlib.pyplot as plt\n",
    "\n",
    "plt.figure(figsize=(10,6))\n",
    "sns.boxplot(x='label', y='mean_intensity', data=df_train)\n",
    "plt.title(\"Distribution of Mean Pixel Intensity per Digit\")\n",
    "plt.show()"
   ]
  },
  {
   "cell_type": "code",
   "execution_count": 60,
   "id": "a9886576-2edc-4adb-8269-9ec2f257f635",
   "metadata": {},
   "outputs": [
    {
     "data": {
      "image/png": "[encoded data removed]",
      "text/plain": [
       "<Figure size 1000x600 with 1 Axes>"
      ]
     },
     "metadata": {},
     "output_type": "display_data"
    }
   ],
   "source": [
    "# Drop labels, keep just pixels\n",
    "pixels = df_train.drop(\"label\", axis=1)\n",
    "\n",
    "# Compute mean intensity\n",
    "df_train[\"mean_intensity\"] = pixels.mean(axis=1)\n",
    "\n",
    "# Now plot\n",
    "import seaborn as sns\n",
    "import matplotlib.pyplot as plt\n",
    "\n",
    "plt.figure(figsize=(10,6))\n",
    "sns.boxplot(x=\"label\", y=\"mean_intensity\", data=df_train)\n",
    "plt.title(\"Distribution of Mean Pixel Intensity per Digit\")\n",
    "\n",
    "#also to save the image from matplotlib\n",
    "plt.savefig(\"Distribution of Mean Pixel Intensity per Digit\", dpi=300, bbox_inches='tight')\n",
    "\n",
    "plt.show()"
   ]
  },
  {
   "cell_type": "code",
   "execution_count": 54,
   "id": "41eabf3d-a6e3-4084-ba10-ba06eb729f5c",
   "metadata": {},
   "outputs": [
    {
     "name": "stdout",
     "output_type": "stream",
     "text": [
      "Average mean pixel intensity per digit:\n",
      "\n",
      "label\n",
      "0    44.173989\n",
      "1    19.373044\n",
      "2    38.100892\n",
      "3    36.122689\n",
      "4    30.909085\n",
      "5    32.953980\n",
      "6    35.376170\n",
      "7    29.249036\n",
      "8    38.500189\n",
      "9    31.318559\n",
      "Name: mean_intensity, dtype: float64\n"
     ]
    }
   ],
   "source": [
    "# Group by label and compute the average mean_intensity\n",
    "mean_by_label = df_train.groupby(\"label\")[\"mean_intensity\"].mean()\n",
    "\n",
    "print(\"Average mean pixel intensity per digit:\\n\")\n",
    "print(mean_by_label)"
   ]
  },
  {
   "cell_type": "code",
   "execution_count": 68,
   "id": "ce30a693-8297-4584-80be-d54ca333dfff",
   "metadata": {},
   "outputs": [
    {
     "name": "stdout",
     "output_type": "stream",
     "text": [
      "       label  pixel_area\n",
      "0          1          64\n",
      "1          0         176\n",
      "2          1          58\n",
      "3          4          59\n",
      "4          0         202\n",
      "...      ...         ...\n",
      "41995      0         117\n",
      "41996      1          53\n",
      "41997      7         138\n",
      "41998      6         104\n",
      "41999      9          73\n",
      "\n",
      "[42000 rows x 2 columns]\n"
     ]
    },
    {
     "data": {
      "image/png": "[encoded data removed]",
      "text/plain": [
       "<Figure size 1000x600 with 1 Axes>"
      ]
     },
     "metadata": {},
     "output_type": "display_data"
    }
   ],
   "source": [
    "# area of the raw dataset\n",
    "\n",
    "# Drop labels, keep just pixels\n",
    "pixels = df_train.drop(\"label\", axis=1)\n",
    "\n",
    "# Define threshold for active pixels\n",
    "threshold = 127\n",
    "\n",
    "# Compute pixel area = number of pixels > threshold\n",
    "df_train[\"pixel_area\"] = (pixels > threshold).sum(axis=1)\n",
    "\n",
    "# Quick check\n",
    "print(df_train[[\"label\", \"pixel_area\"]])\n",
    "\n",
    "plt.figure(figsize=(10,6))\n",
    "sns.boxplot(x=\"label\", y=\"pixel_area\", data=df_train)\n",
    "plt.title(\"Distribution of Pixel Area per Digit\")\n",
    "plt.savefig(\"Distribution of Pixel Area per Digit\", dpi=300, bbox_inches='tight')\n",
    "plt.show()"
   ]
  },
  {
   "cell_type": "code",
   "execution_count": 74,
   "id": "1d966371-18d1-4241-bc12-ee7cf5efc690",
   "metadata": {},
   "outputs": [],
   "source": [
    "# binary test set\n",
    "# Make a copy of the original dataframe\n",
    "binary_train = df_train.copy()"
   ]
  },
  {
   "cell_type": "code",
   "execution_count": 76,
   "id": "c816ee35-83c1-4140-ac0e-af9c46644e94",
   "metadata": {},
   "outputs": [],
   "source": [
    "# List of pixel columns (everything except the label)\n",
    "pixel_columns = [c for c in binary_train.columns if c != \"label\"]"
   ]
  },
  {
   "cell_type": "code",
   "execution_count": 78,
   "id": "3cc39940-4210-4d8f-a81e-161d9c15c989",
   "metadata": {},
   "outputs": [],
   "source": [
    "# Apply threshold in place on binary_train\n",
    "binary_train[pixel_columns] = (binary_train[pixel_columns] > 127).astype(int)"
   ]
  },
  {
   "cell_type": "code",
   "execution_count": 80,
   "id": "ed1e92ce-6352-4b9f-985e-ac11fa67afc2",
   "metadata": {},
   "outputs": [
    {
     "name": "stdout",
     "output_type": "stream",
     "text": [
      "   pixel0  pixel1  pixel2  pixel3  pixel4\n",
      "0       0       0       0       0       0\n",
      "1       0       0       0       0       0\n",
      "2       0       0       0       0       0\n",
      "3       0       0       0       0       0\n",
      "4       0       0       0       0       0\n"
     ]
    }
   ],
   "source": [
    "# Check the first few rows\n",
    "print(binary_train.head()[pixel_columns[:5]])"
   ]
  },
  {
   "cell_type": "code",
   "execution_count": 82,
   "id": "44bdde81-0cba-4d71-9cb6-6140840c00e2",
   "metadata": {},
   "outputs": [
    {
     "name": "stdout",
     "output_type": "stream",
     "text": [
      "[0 1]\n"
     ]
    }
   ],
   "source": [
    "# Ensure only 0 and 1 exist\n",
    "print(binary_train[pixel_columns].stack().unique())  # should output [0,1]"
   ]
  },
  {
   "cell_type": "code",
   "execution_count": 84,
   "id": "6221440b-740b-400c-a863-afcf130ceb2c",
   "metadata": {},
   "outputs": [
    {
     "name": "stdout",
     "output_type": "stream",
     "text": [
      "   pixel0  pixel1  pixel2  pixel3  pixel4\n",
      "0       0       0       0       0       0\n",
      "1       0       0       0       0       0\n",
      "2       0       0       0       0       0\n",
      "3       0       0       0       0       0\n",
      "4       0       0       0       0       0\n"
     ]
    }
   ],
   "source": [
    "# Original df_train remains intact\n",
    "print(df_train.head()[pixel_columns[:5]])"
   ]
  },
  {
   "cell_type": "code",
   "execution_count": 86,
   "id": "9f00983e-9bcc-4469-b7ae-517f43c4f98b",
   "metadata": {},
   "outputs": [],
   "source": [
    "# save the csv to workign directory\n",
    "binary_train.to_csv(\"binary_train.csv\", index=False)"
   ]
  },
  {
   "cell_type": "code",
   "execution_count": 94,
   "id": "46d9c319-22c4-4558-a47a-e4ee26faafb3",
   "metadata": {},
   "outputs": [
    {
     "ename": "ValueError",
     "evalue": "cannot reshape array of size 786 into shape (28,28)",
     "output_type": "error",
     "traceback": [
      "\u001b[0;31m---------------------------------------------------------------------------\u001b[0m",
      "\u001b[0;31mValueError\u001b[0m                                Traceback (most recent call last)",
      "Cell \u001b[0;32mIn[94], line 17\u001b[0m\n\u001b[1;32m     14\u001b[0m pixels \u001b[38;5;241m=\u001b[39m row\u001b[38;5;241m.\u001b[39mdrop(\u001b[38;5;124m'\u001b[39m\u001b[38;5;124mlabel\u001b[39m\u001b[38;5;124m'\u001b[39m)\u001b[38;5;241m.\u001b[39mvalues\n\u001b[1;32m     16\u001b[0m \u001b[38;5;66;03m#reshape to 28x28\u001b[39;00m\n\u001b[0;32m---> 17\u001b[0m image \u001b[38;5;241m=\u001b[39m pixels\u001b[38;5;241m.\u001b[39mreshape(\u001b[38;5;241m28\u001b[39m,\u001b[38;5;241m28\u001b[39m)\n\u001b[1;32m     19\u001b[0m \u001b[38;5;66;03m#plot image\u001b[39;00m\n\u001b[1;32m     20\u001b[0m ax\u001b[38;5;241m.\u001b[39mimshow(image, cmap\u001b[38;5;241m=\u001b[39m\u001b[38;5;124m\"\u001b[39m\u001b[38;5;124mgrey\u001b[39m\u001b[38;5;124m\"\u001b[39m)\n",
      "\u001b[0;31mValueError\u001b[0m: cannot reshape array of size 786 into shape (28,28)"
     ]
    },
    {
     "data": {
      "image/png": "[encoded data removed]",
      "text/plain": [
       "<Figure size 1000x500 with 10 Axes>"
      ]
     },
     "metadata": {},
     "output_type": "display_data"
    }
   ],
   "source": [
    "#try to visualize this binary_train set\n",
    "\n",
    "#multiple images in grid - first 10 digits\n",
    "fig, axes = plt.subplots(2, 5, figsize=(10,5))\n",
    "\n",
    "for i, ax in enumerate(axes.flat):\n",
    "    #pick row #1 (index i)\n",
    "    row = binary_train.iloc[i]\n",
    "    \n",
    "    #pick label column in the chosen row\n",
    "    label = row['label']\n",
    "\n",
    "    #pick pixel columns in the chosen row (all columns except label column)\n",
    "    pixels = row.drop('label').values\n",
    "\n",
    "    #reshape to 28x28\n",
    "    image = pixels.reshape(28,28)\n",
    "\n",
    "    #plot image\n",
    "    ax.imshow(image, cmap=\"grey\")\n",
    "    ax.set_title(label)\n",
    "    ax.axis(\"off\")\n",
    "\n",
    "fig.suptitle('Binary training dataset - First 10 digits', fontsize = 16)\n",
    "plt.tight_layout()\n",
    "plt.savefig(\"binary_train_10digits_visual.png\", dpi=300, bbox_inches='tight')\n",
    "plt.show"
   ]
  },
  {
   "cell_type": "code",
   "execution_count": 98,
   "id": "77da2f51-7f5c-4df7-88d9-8ecb67d90fde",
   "metadata": {},
   "outputs": [
    {
     "data": {
      "image/png": "[encoded data removed]",
      "text/plain": [
       "<Figure size 1000x500 with 10 Axes>"
      ]
     },
     "metadata": {},
     "output_type": "display_data"
    }
   ],
   "source": [
    "# forgot that i may have added mean intensity and area to these\n",
    "# going to just look at the pixel columns\n",
    "fig, axes = plt.subplots(2, 5, figsize=(10,5))\n",
    "\n",
    "# Only keep actual pixel columns\n",
    "pixel_columns = [c for c in binary_train.columns if c not in ['label', 'mean_intensity', 'pixel_area']]\n",
    "\n",
    "for i, ax in enumerate(axes.flat):\n",
    "    row = binary_train.iloc[i]\n",
    "    label = row['label']\n",
    "    pixels = row[pixel_columns].values\n",
    "    image = pixels.reshape(28,28)\n",
    "    \n",
    "    ax.imshow(image, cmap=\"gray\")\n",
    "    ax.set_title(label)\n",
    "    ax.axis(\"off\")\n",
    "\n",
    "fig.suptitle('Binary training dataset - First 10 digits', fontsize=16)\n",
    "plt.tight_layout()\n",
    "plt.savefig(\"binary_train_10digits_visual.png\", dpi=300, bbox_inches='tight')\n",
    "plt.show()"
   ]
  },
  {
   "cell_type": "code",
   "execution_count": 110,
   "id": "251804ae-8c41-40a5-86c4-2c3629f7e670",
   "metadata": {},
   "outputs": [
    {
     "name": "stdout",
     "output_type": "stream",
     "text": [
      "12744 0\n",
      "8479 0\n",
      "21391 0\n",
      "20725 0\n",
      "35082 0\n",
      "23290 0\n",
      "17984 0\n",
      "18451 0\n",
      "35720 0\n",
      "6048 0\n",
      "12385 0\n",
      "15166 0\n",
      "38731 0\n",
      "35152 0\n",
      "17369 0\n",
      "2134 0\n",
      "8093 0\n",
      "4002 0\n",
      "16540 0\n",
      "12526 0\n"
     ]
    },
    {
     "ename": "AttributeError",
     "evalue": "'list' object has no attribute 'reshape'",
     "output_type": "error",
     "traceback": [
      "\u001b[0;31m---------------------------------------------------------------------------\u001b[0m",
      "\u001b[0;31mAttributeError\u001b[0m                            Traceback (most recent call last)",
      "Cell \u001b[0;32mIn[110], line 29\u001b[0m\n\u001b[1;32m     25\u001b[0m    \u001b[38;5;66;03m# Only keep actual pixel columns\u001b[39;00m\n\u001b[1;32m     26\u001b[0m pixel_columns \u001b[38;5;241m=\u001b[39m [c \u001b[38;5;28;01mfor\u001b[39;00m c \u001b[38;5;129;01min\u001b[39;00m binary_train\u001b[38;5;241m.\u001b[39mcolumns \u001b[38;5;28;01mif\u001b[39;00m c \u001b[38;5;129;01mnot\u001b[39;00m \u001b[38;5;129;01min\u001b[39;00m [\u001b[38;5;124m'\u001b[39m\u001b[38;5;124mlabel\u001b[39m\u001b[38;5;124m'\u001b[39m, \u001b[38;5;124m'\u001b[39m\u001b[38;5;124mmean_intensity\u001b[39m\u001b[38;5;124m'\u001b[39m, \u001b[38;5;124m'\u001b[39m\u001b[38;5;124mpixel_area\u001b[39m\u001b[38;5;124m'\u001b[39m]]\n\u001b[0;32m---> 29\u001b[0m image \u001b[38;5;241m=\u001b[39m pixel_columns\u001b[38;5;241m.\u001b[39mreshape(\u001b[38;5;241m28\u001b[39m,\u001b[38;5;241m28\u001b[39m)\n\u001b[1;32m     31\u001b[0m     \u001b[38;5;66;03m#plot image\u001b[39;00m\n\u001b[1;32m     32\u001b[0m ax\u001b[38;5;241m.\u001b[39mimshow(image, cmap\u001b[38;5;241m=\u001b[39m\u001b[38;5;124m\"\u001b[39m\u001b[38;5;124mgrey\u001b[39m\u001b[38;5;124m\"\u001b[39m)\n",
      "\u001b[0;31mAttributeError\u001b[0m: 'list' object has no attribute 'reshape'"
     ]
    },
    {
     "data": {
      "image/png": "[encoded data removed]",
      "text/plain": [
       "<Figure size 500x500 with 20 Axes>"
      ]
     },
     "metadata": {},
     "output_type": "display_data"
    }
   ],
   "source": [
    "#pick random 20 images -- per digit label\n",
    "ones = binary_train[binary_train['label'] == 1]\n",
    "twos = binary_train[binary_train['label'] == 2]\n",
    "threes = binary_train[binary_train['label'] == 3]\n",
    "fours = binary_train[binary_train['label'] == 4]\n",
    "fives = binary_train[binary_train['label'] == 5]\n",
    "sixes = binary_train[binary_train['label'] == 6]\n",
    "sevens = binary_train[binary_train['label'] == 7]\n",
    "eights = binary_train[binary_train['label'] == 8]\n",
    "nines = binary_train[binary_train['label'] == 9]\n",
    "zeroes = binary_train[binary_train['label'] == 0]\n",
    "\n",
    "sampled_rows_train = zeroes.sample(n=20, random_state=7)\n",
    "#random state used: 7\n",
    "\n",
    "#multiple images in grid - random 20 digits\n",
    "fig, axes = plt.subplots(4, 5, figsize=(5,5))\n",
    "\n",
    "for (idx, row), ax in zip(sampled_rows_train.iterrows(), axes.flat):\n",
    "    print(idx, row['label'])\n",
    "   \n",
    "    #pick label column in the chosen row\n",
    "    label = row['label']\n",
    "\n",
    "   # Only keep actual pixel columns\n",
    "pixel_columns = [c for c in binary_train.columns if c not in ['label', 'mean_intensity', 'pixel_area']]\n",
    "\n",
    "\n",
    "image = pixel_columns.reshape(28,28)\n",
    "\n",
    "    #plot image\n",
    "ax.imshow(image, cmap=\"grey\")\n",
    "ax.set_title(label)\n",
    "ax.axis(\"off\")\n",
    "\n",
    "fig.suptitle('Binary training dataset - digit = 0', fontsize = 16)\n",
    "plt.tight_layout()\n",
    "plt.savefig(\"Binary_train_visual_digit0.png\", dpi=300, bbox_inches='tight')\n",
    "plt.show"
   ]
  },
  {
   "cell_type": "code",
   "execution_count": null,
   "id": "f0d2867c-876d-46cc-96d1-6d232162ff1e",
   "metadata": {},
   "outputs": [],
   "source": []
  }
 ],
 "metadata": {
  "kernelspec": {
   "display_name": "Python [conda env:base] *",
   "language": "python",
   "name": "conda-base-py"
  },
  "language_info": {
   "codemirror_mode": {
    "name": "ipython",
    "version": 3
   },
   "file_extension": ".py",
   "mimetype": "text/x-python",
   "name": "python",
   "nbconvert_exporter": "python",
   "pygments_lexer": "ipython3",
   "version": "3.12.7"
  }
 },
 "nbformat": 4,
 "nbformat_minor": 5
}
