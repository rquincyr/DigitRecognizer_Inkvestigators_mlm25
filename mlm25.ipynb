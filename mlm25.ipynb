{
 "cells": [
  {
   "cell_type": "code",
   "execution_count": 1,
   "id": "92676743-48c1-40e6-9cc8-9bac18a0a98f",
   "metadata": {},
   "outputs": [],
   "source": [
    "# Hello Inkvestigators!  This is our Jupyter Notebook "
   ]
  },
  {
   "cell_type": "code",
   "execution_count": 5,
   "id": "a10002f0-3a29-454d-9daa-48528be5f5c5",
   "metadata": {},
   "outputs": [],
   "source": [
    "#running a simple multilayer perceptron neural network\n",
    "import pandas as pd\n",
    "\n",
    "\n",
    "\n"
   ]
  },
  {
   "cell_type": "code",
   "execution_count": 40,
   "id": "321d65eb-3357-4d7c-bdb4-509088da9de4",
   "metadata": {},
   "outputs": [],
   "source": [
    "df = pd.read_csv('train.csv')\n",
    "X_test = pd.read_csv('test.csv')"
   ]
  },
  {
   "cell_type": "code",
   "execution_count": 32,
   "id": "931bee92-794b-4ae9-9ca3-cfe63dfd284c",
   "metadata": {},
   "outputs": [],
   "source": [
    "# Assigning which data points are x and which are y\n",
    "# x is all rows(every digit in the set) and all columns except the first\n",
    "# y is the prediction which is listed in the first column \"0\"\n",
    "#float32 keeps pytorch from treating values as integers\n",
    "#long converts the predictions to integers\n",
    "import torch\n",
    "\n",
    "X = torch.tensor(df.values[:, 1:], dtype=torch.float32) / 255.0\n",
    "\n",
    "Y = torch.tensor(df.values [:, 0], dtype=torch.long)"
   ]
  },
  {
   "cell_type": "code",
   "execution_count": 35,
   "id": "c58c274e-15da-4730-854c-282252275a29",
   "metadata": {},
   "outputs": [],
   "source": [
    "# Assigning the shape of the neural network model\n",
    "import torch.nn as nn\n",
    "model = nn.Sequential(\n",
    "    nn.Linear(784, 784),\n",
    "    nn.ReLU(),\n",
    "    nn.Linear(784, 10),\n",
    "    # pytorch automatically uses a softmax activation function here where all probabilities of the ten nodes add up to 1.0\n",
    ")"
   ]
  },
  {
   "cell_type": "code",
   "execution_count": 36,
   "id": "1fc95f7d-bb3b-4e35-b12b-14b4314072f2",
   "metadata": {},
   "outputs": [
    {
     "name": "stdout",
     "output_type": "stream",
     "text": [
      "Epoch 0: model accuracy 0.9638333320617676\n",
      "Epoch 1: model accuracy 0.9590952396392822\n",
      "Epoch 2: model accuracy 0.9729285836219788\n",
      "Epoch 3: model accuracy 0.9777619242668152\n",
      "Epoch 4: model accuracy 0.9831904768943787\n",
      "Epoch 5: model accuracy 0.9843094944953918\n",
      "Epoch 6: model accuracy 0.9843094944953918\n",
      "Epoch 7: model accuracy 0.9886904954910278\n",
      "Epoch 8: model accuracy 0.9845238327980042\n",
      "Epoch 9: model accuracy 0.9837142825126648\n"
     ]
    }
   ],
   "source": [
    "# epoch is number of times we run the model over all the digits\n",
    "epochs = 10\n",
    "# batch size is number of digits run through the model at a time\n",
    "batch_size = 100\n",
    "#batches per epoch is how many different batches of digits are sent through the model to complete one epoch \n",
    "batches_per_epoch = len(X) // batch_size\n",
    "\n",
    "optimizer = torch.optim.Adam(model.parameters(), lr=0.01)\n",
    "loss_fn = nn.CrossEntropyLoss()\n",
    "\n",
    "for epoch in range(epochs):\n",
    "    for i in range(batches_per_epoch):\n",
    "\n",
    "        #get a batch\n",
    "        start = i * batch_size\n",
    "        X_batch = X[start:start+batch_size]\n",
    "        Y_batch = Y[start:start+batch_size]\n",
    "\n",
    "        #forward pass.  we compare the model's prediction against the actual y\n",
    "        Y_pred = model(X_batch)\n",
    "        loss = loss_fn(Y_pred, Y_batch)\n",
    "\n",
    "        #backward pass.  zero gradiant is the where the derivative of the graph for y is at its lowest point\n",
    "        optimizer.zero_grad()\n",
    "        loss.backward()\n",
    "\n",
    "        #update weights\n",
    "        optimizer.step()\n",
    "\n",
    "    # Validation.  argmax is trying to find the node (1-9) that has a prediction probability closest to 1 \n",
    "    model.eval()\n",
    "    y_pred = model (X)\n",
    "    acc = (torch.argmax(y_pred, 1) == Y).float().mean()\n",
    "    #print(f\"Epoch {epoch}: model accuracy {acc}\")"
   ]
  },
  {
   "cell_type": "code",
   "execution_count": 45,
   "id": "10ff918c-174f-4043-924f-aa981a30a3d0",
   "metadata": {},
   "outputs": [
    {
     "name": "stdout",
     "output_type": "stream",
     "text": [
      "Predictions saved to ac_multilayer_perceptron predictions1_oct16.csv\n"
     ]
    }
   ],
   "source": [
    "#Needed to move to testing mode\n",
    "import torch\n",
    "import csv\n",
    "import pandas as pd  # Added pandas import\n",
    "\n",
    "model.eval()\n",
    "\n",
    "#Create list to store predictions\n",
    "ImageId = []\n",
    "predictions = []\n",
    "\n",
    "# Convert DataFrame to tensor if X_test is a DataFrame\n",
    "if isinstance(X_test, pd.DataFrame):\n",
    "    X_test = torch.tensor(X_test.values, dtype=torch.float32)\n",
    "# If X_test is a numpy array, convert to tensor\n",
    "elif isinstance(X_test, np.ndarray):\n",
    "    X_test = torch.tensor(X_test, dtype=torch.float32)\n",
    "\n",
    "#Disable gradient calculations\n",
    "# Create a list to store predictions\n",
    "with torch.no_grad():\n",
    "    # Forward pass on test data\n",
    "    test_outputs = model(X_test)\n",
    "    _, test_predictions = torch.max(test_outputs.data, 1)\n",
    "    \n",
    "    # Convert to numpy arrays\n",
    "    predictions = test_predictions.cpu().numpy()\n",
    "    # Create item IDs (adjust as needed for your specific case)\n",
    "    ImageId = list(range(1,len(predictions)+1))\n",
    "\n",
    "# Create DataFrame with predictions\n",
    "results_df = pd.DataFrame({\n",
    "    'ImageId': ImageId,\n",
    "    'label': predictions\n",
    "})\n",
    "\n",
    "# Save to CSV\n",
    "results_df.to_csv('ac_multilayer_perceptron predictions1_oct16.csv', index=False)\n",
    "print(\"Predictions saved to ac_multilayer_perceptron predictions1_oct16.csv\")\n"
   ]
  },
  {
   "cell_type": "code",
   "execution_count": null,
   "id": "20aedbf2-b36b-430a-8f62-bb1804ba0429",
   "metadata": {},
   "outputs": [],
   "source": []
  }
 ],
 "metadata": {
  "kernelspec": {
   "display_name": "anaconda-ml-ai",
   "language": "python",
   "name": "conda-env-anaconda-ml-ai"
  },
  "language_info": {
   "codemirror_mode": {
    "name": "ipython",
    "version": 3
   },
   "file_extension": ".py",
   "mimetype": "text/x-python",
   "name": "python",
   "nbconvert_exporter": "python",
   "pygments_lexer": "ipython3",
   "version": "3.11.13"
  }
 },
 "nbformat": 4,
 "nbformat_minor": 5
}
